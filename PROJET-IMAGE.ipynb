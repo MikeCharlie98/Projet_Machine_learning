{
 "cells": [
  {
   "cell_type": "markdown",
   "metadata": {},
   "source": [
    "## RODRIGUEZ FRANCK & CERCELET MATTHIAS"
   ]
  },
  {
   "cell_type": "markdown",
   "metadata": {},
   "source": [
    "Dans cette partie nous allons nous intéresser à la partie $\\textit{Transfer Learning}$ et $\\textit{Finetuning}$. Dans la première partie qui correspond au projet Machine Learning, nous avons vu comment le modèle de prédictions d'ECG fonctionne, comment celui-ci prédit les maladies, avec quel pourcentage de prédiction etc.\n",
    "Nous allons donc dans cette partie, utiliser ce modèle vu précedemment et le modifier de manière à y appliquer notre nouveau dataset."
   ]
  },
  {
   "cell_type": "markdown",
   "metadata": {},
   "source": [
    "Les commandes ci-dessous vont nous permettre de générer notre dataset, et de voir à quoi celui-ci ressemble. \n",
    "\n",
    "Malheureusement, nous n'avons pu prendre qu'une partie de notre target, car la puissance de l'ordinateur ainsi que de google colab ne nous permettent pas de pouvoir prendre l'entièretée de ce dataset."
   ]
  },
  {
   "cell_type": "markdown",
   "metadata": {},
   "source": [
    "## 1. Convert raw datasets from hospital centers into usable variables to train our model\n",
    "### a. Import required libraries\n",
    "    "
   ]
  },
  {
   "cell_type": "code",
   "execution_count": 1,
   "metadata": {},
   "outputs": [
    {
     "name": "stdout",
     "output_type": "stream",
     "text": [
      "pandas version is : 1.3.4\n",
      "numpy version is : 1.19.5\n",
      "wfdb version is : 3.4.1\n"
     ]
    }
   ],
   "source": [
    "import pandas as pd\n",
    "import numpy as np\n",
    "import wfdb\n",
    "import ast #package typed-ast\n",
    "import tensorflow.keras\n",
    "import scikitplot as skplt\n",
    "import os\n",
    "\n",
    "from tensorflow.keras.layers import Dense\n",
    "from tensorflow.keras.layers import Flatten\n",
    "from sklearn.metrics import confusion_matrix\n",
    "from sklearn.metrics import accuracy_score\n",
    "from sklearn.metrics import roc_curve\n",
    "from sklearn.metrics import roc_auc_score\n",
    "\n",
    "#Print versions\n",
    "print('pandas version is :', pd.__version__)\n",
    "print('numpy version is :', np.__version__)\n",
    "print('wfdb version is :', wfdb.__version__)"
   ]
  },
  {
   "cell_type": "code",
   "execution_count": 2,
   "metadata": {},
   "outputs": [
    {
     "name": "stdout",
     "output_type": "stream",
     "text": [
      "3.7.11\n"
     ]
    }
   ],
   "source": [
    "from platform import python_version\n",
    "\n",
    "print(python_version())"
   ]
  },
  {
   "cell_type": "markdown",
   "metadata": {},
   "source": [
    "### b. Get the data to prepare the training phase\n",
    "\n"
   ]
  },
  {
   "cell_type": "code",
   "execution_count": 3,
   "metadata": {},
   "outputs": [
    {
     "name": "stderr",
     "output_type": "stream",
     "text": [
      "100%|██████████████████████████████████████| 5000/5000 [00:29<00:00, 166.87it/s]\n"
     ]
    }
   ],
   "source": [
    "from tqdm import tqdm\n",
    "def load_raw_data(df, sampling_rate, path):\n",
    "    data = []\n",
    "    if sampling_rate == 100:\n",
    "        data = [wfdb.rdsamp(path+f) for f in df.filename_lr]\n",
    "    else:\n",
    "        i=0\n",
    "        for f in tqdm(df.filename_hr):\n",
    "            data.append(wfdb.rdsamp(path+f))\n",
    "            i+=1\n",
    "\n",
    "    data = np.array([signal for signal, meta in data])\n",
    "    return data\n",
    "\n",
    "path = os.path.expanduser('~/Desktop/ML/ptb-xl-a-large-publicly-available-electrocardiography-dataset-1.0.1/')  #SET YOUR DIRECTORY HERE!!!\n",
    "#path = '/Users/lrisser/Taff/2021_NNetECG/ptb-xl-a-large-publicly-available-electrocardiography-dataset-1.0.1/'\n",
    "sampling_rate=500\n",
    "\n",
    "# load and convert annotation data\n",
    "Y = pd.read_csv(path + 'ptbxl_database.csv', index_col='ecg_id')\n",
    "\n",
    "Y.scp_codes = Y.scp_codes.apply(lambda x: ast.literal_eval(x))\n",
    "Y = Y[0:5000] # l'on prend seulement 5000 Y\n",
    "\n",
    "\n",
    "# Load raw signal data\n",
    "X = load_raw_data(Y, sampling_rate, path)\n",
    "#X = load_raw_data(Y[0:1000], sampling_rate, path)\n",
    "\n",
    "# Load scp_statements.csv for diagnostic aggregation\n",
    "agg_df = pd.read_csv(path+'scp_statements.csv', index_col=0)\n",
    "agg_df = agg_df[agg_df.diagnostic == 1]\n",
    "\n",
    "def aggregate_diagnostic(y_dic):\n",
    "    tmp = []\n",
    "    for key in y_dic.keys():\n",
    "        if key in agg_df.index:\n",
    "            tmp.append(agg_df.loc[key].diagnostic_class)\n",
    "    return list(set(tmp))\n",
    "\n",
    "# Apply diagnostic superclass\n",
    "Y['diagnostic_superclass'] = Y.scp_codes.apply(aggregate_diagnostic)\n",
    "#Y = Y[0:1000]\n",
    "\n",
    "# Split data into train and test\n",
    "test_fold = 10\n",
    "# Train\n",
    "X_train = X[np.where(Y.strat_fold != test_fold)]\n",
    "y_train = Y[(Y.strat_fold != test_fold)].diagnostic_superclass\n",
    "# Test\n",
    "X_test = X[np.where(Y.strat_fold == test_fold)]\n",
    "y_test = Y[Y.strat_fold == test_fold].diagnostic_superclass"
   ]
  },
  {
   "cell_type": "code",
   "execution_count": 4,
   "metadata": {},
   "outputs": [],
   "source": [
    "def delete_unk_ecg(x,y):\n",
    "    y = list(y)\n",
    "    x_processed,y_processed = [],[]\n",
    "    for index,dis in enumerate(y):\n",
    "        if dis != []:\n",
    "            x_processed.append(x[index])\n",
    "            y_processed.append(y[index])\n",
    "    return x_processed,y_processed\n",
    "\n",
    "\n",
    "X_train,y_train = delete_unk_ecg(X_train,y_train)\n",
    "X_test,y_test = delete_unk_ecg(X_test,y_test)\n",
    "            \n",
    "y_train = np.array(y_train,dtype=object)\n",
    "y_test = np.array(y_test,dtype=object)\n",
    "X_train = np.array(X_train)\n",
    "X_test = np.array(X_test)"
   ]
  },
  {
   "cell_type": "code",
   "execution_count": 5,
   "metadata": {},
   "outputs": [
    {
     "name": "stdout",
     "output_type": "stream",
     "text": [
      "(4327,)\n",
      "(4327, 5000, 12)\n",
      "(615, 5000, 12)\n",
      "(615,)\n"
     ]
    }
   ],
   "source": [
    "print(\"La taille de notre X_train :\" X_train.shape)\n",
    "print(\"La taille de notre y_train :\" y_train.shape)\n",
    "print(\"La taille de notre X_test :\" X_test.shape)\n",
    "print(\"La taille de notre y_test :\" y_test.shape)"
   ]
  },
  {
   "cell_type": "markdown",
   "metadata": {},
   "source": [
    "###    c. Convert the y_train into a usable format  \n",
    "    "
   ]
  },
  {
   "cell_type": "code",
   "execution_count": 6,
   "metadata": {},
   "outputs": [
    {
     "name": "stdout",
     "output_type": "stream",
     "text": [
      "(4327, 4)\n",
      "(615, 4)\n"
     ]
    }
   ],
   "source": [
    "#Define the diseases\n",
    "diseases = [\"NORM\",\"MI\",\"HYP\",\"CD\",\"STTC\"] # ce sont les différentes maladies\n",
    "\n",
    "#Create a RIBEIRO format training data\n",
    "def Ribeiro_convert(y_train):\n",
    "    \n",
    "    y_train = list(y_train)\n",
    "\n",
    "    y_train_ = [[0,0,0,0] for i in list(y_train)]\n",
    "    for index, info in enumerate(y_train):\n",
    "\n",
    "        for disease in info:\n",
    "\n",
    "            if disease != 'NORM':\n",
    "                y_train_[index][diseases.index(disease)-1] = 1\n",
    "\n",
    "    y_train_ = np.array(y_train_)\n",
    "    return y_train_\n",
    "\n",
    "y_train = Ribeiro_convert(y_train)\n",
    "y_test = Ribeiro_convert(y_test)\n",
    "\n",
    "print(y_train.shape)\n",
    "print(y_test.shape)\n",
    "\n",
    "##Reformat the ECG aquisition, 4048 samples needed."
   ]
  },
  {
   "cell_type": "markdown",
   "metadata": {},
   "source": [
    "### d. Rescale the data\n",
    "    Ribeiro is adaptated to 400Hz/10sec : 4096 samples, on this dataset the ECG are converted into 5000 samples array, we have to interpolate and convert array with shape (5000,) into (4096,)\n",
    "    "
   ]
  },
  {
   "cell_type": "code",
   "execution_count": 7,
   "metadata": {},
   "outputs": [
    {
     "name": "stdout",
     "output_type": "stream",
     "text": [
      "(4327, 5000, 12)\n",
      "(4327, 4096, 12)\n",
      "(615, 5000, 12)\n",
      "(615, 4096, 12)\n"
     ]
    }
   ],
   "source": [
    "import cv2 # opencv\n",
    "from tqdm import tqdm\n",
    "\n",
    "def convert_X(X,scale):\n",
    "    X_conv = np.empty((X.shape[0], 4096, 12))\n",
    "    for index,array in enumerate(X):\n",
    "        array = cv2.resize(array,(12,scale))\n",
    "        X_conv[index,:,:]=array\n",
    "    return X_conv\n",
    "    \n",
    "X_train_=convert_X(X_train,4096)    \n",
    "X_test_=convert_X(X_test,4096)    \n",
    "\n",
    "print(X_train.shape)\n",
    "print(X_train_.shape)\n",
    "print(X_test.shape)\n",
    "print(X_test_.shape)"
   ]
  },
  {
   "cell_type": "markdown",
   "metadata": {},
   "source": [
    "#### check the interpolation"
   ]
  },
  {
   "cell_type": "code",
   "execution_count": 8,
   "metadata": {},
   "outputs": [
    {
     "name": "stdout",
     "output_type": "stream",
     "text": [
      "y= [1 0 0 0]\n",
      "Disease = MI\n"
     ]
    },
    {
     "data": {
      "image/png": "[encoded data removed]",
      "text/plain": [
       "<Figure size 432x288 with 2 Axes>"
      ]
     },
     "metadata": {
      "needs_background": "light"
     },
     "output_type": "display_data"
    }
   ],
   "source": [
    "import numpy as np\n",
    "import matplotlib.pyplot as plt\n",
    "\n",
    "y = np.linspace(0,10,5000)\n",
    "y_ =np.linspace(0,10,4096)\n",
    "\n",
    "ObsID=7     #you can change the obsevations here\n",
    "ChannelID=0 #you can change the channel here\n",
    "\n",
    "plt.subplot(2, 1, 1)\n",
    "plt.plot(y,X_train[ObsID,:,ChannelID])\n",
    "plt.subplot(2, 1, 2)\n",
    "plt.plot(y_,X_train_[ObsID,:,ChannelID])\n",
    "\n",
    "print('y=',y_train[ObsID])\n",
    "\n",
    "if (y_train[ObsID][0]==1):\n",
    "    print(\"Disease = MI\")\n",
    "elif (y_train[ObsID][1]==1):\n",
    "    print(\"Disease = HYP\")\n",
    "elif (y_train[ObsID][2]==1):\n",
    "    print(\"Disease = CD\")\n",
    "elif (y_train[ObsID][3]==1):\n",
    "    print(\"Disease = STTC\")"
   ]
  },
  {
   "cell_type": "markdown",
   "metadata": {},
   "source": [
    "Dans le code ci-dessus, nous avons seulement $4$ maladies que sont : $MI$, $HYP$, $CD$ et $STTC$. Tandis que dans le modèle nous avons $6$ maladies en sorties. C'est donc la raison pour laquelle nous allons devoir modifier le modèle. Il ne nous faudra changer que quelques couches pour pouvoir applique le modèle à ce nouveau dataset."
   ]
  },
  {
   "cell_type": "markdown",
   "metadata": {},
   "source": [
    "## Modification du modèle\n",
    "\n",
    "### Transfer Learning \n",
    "Ici nous allons geler tout le modèle, en gardant les paramètres qu'il a acquis durant l'entrainement. Puis nous allons supprimer la dernière couche et la remplacer par d'autres pour pouvoir y appliquer notre dataset.\n",
    "\n",
    "\n",
    "Dans le code ci-dessous, nous reprenons le modèle `model.hdf5` qui est le modèle de prédiction des maladies. "
   ]
  },
  {
   "cell_type": "code",
   "execution_count": 10,
   "metadata": {},
   "outputs": [
    {
     "name": "stderr",
     "output_type": "stream",
     "text": [
      "2022-02-27 18:17:36.112162: I tensorflow/core/platform/cpu_feature_guard.cc:142] This TensorFlow binary is optimized with oneAPI Deep Neural Network Library (oneDNN) to use the following CPU instructions in performance-critical operations:  AVX2 FMA\n",
      "To enable them in other operations, rebuild TensorFlow with the appropriate compiler flags.\n"
     ]
    }
   ],
   "source": [
    "import argparse\n",
    "#warnings.filterwarnings(\"ignore\")\n",
    "from tensorflow.keras.models import load_model\n",
    "from tensorflow.keras.optimizers import Adam\n",
    "from datasets import ECGSequence\n",
    "\n",
    "if __name__ == '__main__':\n",
    "    parser = argparse.ArgumentParser(description='Get performance on test set from hdf5')\n",
    "    parser.add_argument('path_to_hdf5', type=str,\n",
    "                        help='path to hdf5 file containing tracings')\n",
    "    parser.add_argument('path_to_model',  # or model_date_order.hdf5\n",
    "                        help='file containing training model.')\n",
    "    parser.add_argument('--dataset_name', type=str, default='tracings',\n",
    "                        help='name of the hdf5 dataset containing tracings')\n",
    "    parser.add_argument('--output_file', default=\"./dnn_output2.npy\",  # or predictions_date_order.csv\n",
    "                        help='output csv file.')\n",
    "    parser.add_argument('-bs', type=int, default=32,\n",
    "                        help='Batch size.')\n",
    "\n",
    "    args, unk = parser.parse_known_args(['data/ecg_tracings.hdf5','model/model.hdf5'])\n",
    "    if unk:\n",
    "        warnings.warn(\"Unknown arguments:\" + str(unk) + \".\")\n",
    "\n",
    "    # Import data\n",
    "    seq = ECGSequence(args.path_to_hdf5, args.dataset_name, batch_size=args.bs)\n",
    "    #Import model\n",
    "    model = load_model(args.path_to_model, compile=False)"
   ]
  },
  {
   "cell_type": "code",
   "execution_count": null,
   "metadata": {},
   "outputs": [],
   "source": [
    "new_model.summary()"
   ]
  },
  {
   "cell_type": "code",
   "execution_count": 11,
   "metadata": {},
   "outputs": [],
   "source": [
    "model.trainable = False"
   ]
  },
  {
   "cell_type": "markdown",
   "metadata": {},
   "source": [
    "La commande ci-dessus nous permet de geler toutes les couches du modèle en gardant les paramètres de chaque couche."
   ]
  },
  {
   "cell_type": "code",
   "execution_count": 12,
   "metadata": {},
   "outputs": [],
   "source": [
    "model_output = [layer.output for layer in model.layers[:-1]]\n",
    "new_end = Dense(4096, activation = 'relu')(model_output[-1])\n",
    "new_end = Dense(4096, activation = 'relu')(new_end)\n",
    "new_end = Dense(4, activation = 'sigmoid')(new_end)\n",
    "new_model = tensorflow.keras.Model(inputs = model.input, outputs = new_end)"
   ]
  },
  {
   "cell_type": "markdown",
   "metadata": {},
   "source": [
    "La dernière couche ajouté est une couche `Dense` de taille $4$ car c'est le nombre de variables qu'il y aura en sorties. Nous avons également ajouté $2$ couches `Dense` de taille $4096$ car nous avons décidé de prendre exemple sur le modèle $VGG16$."
   ]
  },
  {
   "cell_type": "code",
   "execution_count": 13,
   "metadata": {
    "scrolled": true
   },
   "outputs": [
    {
     "name": "stdout",
     "output_type": "stream",
     "text": [
      "Model: \"model\"\n",
      "__________________________________________________________________________________________________\n",
      "Layer (type)                    Output Shape         Param #     Connected to                     \n",
      "==================================================================================================\n",
      "signal (InputLayer)             [(None, 4096, 12)]   0                                            \n",
      "__________________________________________________________________________________________________\n",
      "conv1d_1 (Conv1D)               (None, 4096, 64)     12288       signal[0][0]                     \n",
      "__________________________________________________________________________________________________\n",
      "batch_normalization_1 (BatchNor (None, 4096, 64)     256         conv1d_1[0][0]                   \n",
      "__________________________________________________________________________________________________\n",
      "activation_1 (Activation)       (None, 4096, 64)     0           batch_normalization_1[0][0]      \n",
      "__________________________________________________________________________________________________\n",
      "conv1d_3 (Conv1D)               (None, 4096, 128)    131072      activation_1[0][0]               \n",
      "__________________________________________________________________________________________________\n",
      "batch_normalization_2 (BatchNor (None, 4096, 128)    512         conv1d_3[0][0]                   \n",
      "__________________________________________________________________________________________________\n",
      "activation_2 (Activation)       (None, 4096, 128)    0           batch_normalization_2[0][0]      \n",
      "__________________________________________________________________________________________________\n",
      "dropout_1 (Dropout)             (None, 4096, 128)    0           activation_2[0][0]               \n",
      "__________________________________________________________________________________________________\n",
      "max_pooling1d_1 (MaxPooling1D)  (None, 1024, 64)     0           activation_1[0][0]               \n",
      "__________________________________________________________________________________________________\n",
      "conv1d_4 (Conv1D)               (None, 1024, 128)    262144      dropout_1[0][0]                  \n",
      "__________________________________________________________________________________________________\n",
      "conv1d_2 (Conv1D)               (None, 1024, 128)    8192        max_pooling1d_1[0][0]            \n",
      "__________________________________________________________________________________________________\n",
      "add_1 (Add)                     (None, 1024, 128)    0           conv1d_4[0][0]                   \n",
      "                                                                 conv1d_2[0][0]                   \n",
      "__________________________________________________________________________________________________\n",
      "batch_normalization_3 (BatchNor (None, 1024, 128)    512         add_1[0][0]                      \n",
      "__________________________________________________________________________________________________\n",
      "activation_3 (Activation)       (None, 1024, 128)    0           batch_normalization_3[0][0]      \n",
      "__________________________________________________________________________________________________\n",
      "dropout_2 (Dropout)             (None, 1024, 128)    0           activation_3[0][0]               \n",
      "__________________________________________________________________________________________________\n",
      "conv1d_6 (Conv1D)               (None, 1024, 196)    401408      dropout_2[0][0]                  \n",
      "__________________________________________________________________________________________________\n",
      "batch_normalization_4 (BatchNor (None, 1024, 196)    784         conv1d_6[0][0]                   \n",
      "__________________________________________________________________________________________________\n",
      "activation_4 (Activation)       (None, 1024, 196)    0           batch_normalization_4[0][0]      \n",
      "__________________________________________________________________________________________________\n",
      "dropout_3 (Dropout)             (None, 1024, 196)    0           activation_4[0][0]               \n",
      "__________________________________________________________________________________________________\n",
      "max_pooling1d_2 (MaxPooling1D)  (None, 256, 128)     0           add_1[0][0]                      \n",
      "__________________________________________________________________________________________________\n",
      "conv1d_7 (Conv1D)               (None, 256, 196)     614656      dropout_3[0][0]                  \n",
      "__________________________________________________________________________________________________\n",
      "conv1d_5 (Conv1D)               (None, 256, 196)     25088       max_pooling1d_2[0][0]            \n",
      "__________________________________________________________________________________________________\n",
      "add_2 (Add)                     (None, 256, 196)     0           conv1d_7[0][0]                   \n",
      "                                                                 conv1d_5[0][0]                   \n",
      "__________________________________________________________________________________________________\n",
      "batch_normalization_5 (BatchNor (None, 256, 196)     784         add_2[0][0]                      \n",
      "__________________________________________________________________________________________________\n",
      "activation_5 (Activation)       (None, 256, 196)     0           batch_normalization_5[0][0]      \n",
      "__________________________________________________________________________________________________\n",
      "dropout_4 (Dropout)             (None, 256, 196)     0           activation_5[0][0]               \n",
      "__________________________________________________________________________________________________\n",
      "conv1d_9 (Conv1D)               (None, 256, 256)     802816      dropout_4[0][0]                  \n",
      "__________________________________________________________________________________________________\n",
      "batch_normalization_6 (BatchNor (None, 256, 256)     1024        conv1d_9[0][0]                   \n",
      "__________________________________________________________________________________________________\n",
      "activation_6 (Activation)       (None, 256, 256)     0           batch_normalization_6[0][0]      \n",
      "__________________________________________________________________________________________________\n",
      "dropout_5 (Dropout)             (None, 256, 256)     0           activation_6[0][0]               \n",
      "__________________________________________________________________________________________________\n",
      "max_pooling1d_3 (MaxPooling1D)  (None, 64, 196)      0           add_2[0][0]                      \n",
      "__________________________________________________________________________________________________\n",
      "conv1d_10 (Conv1D)              (None, 64, 256)      1048576     dropout_5[0][0]                  \n",
      "__________________________________________________________________________________________________\n",
      "conv1d_8 (Conv1D)               (None, 64, 256)      50176       max_pooling1d_3[0][0]            \n",
      "__________________________________________________________________________________________________\n",
      "add_3 (Add)                     (None, 64, 256)      0           conv1d_10[0][0]                  \n",
      "                                                                 conv1d_8[0][0]                   \n",
      "__________________________________________________________________________________________________\n",
      "batch_normalization_7 (BatchNor (None, 64, 256)      1024        add_3[0][0]                      \n",
      "__________________________________________________________________________________________________\n",
      "activation_7 (Activation)       (None, 64, 256)      0           batch_normalization_7[0][0]      \n",
      "__________________________________________________________________________________________________\n",
      "dropout_6 (Dropout)             (None, 64, 256)      0           activation_7[0][0]               \n",
      "__________________________________________________________________________________________________\n",
      "conv1d_12 (Conv1D)              (None, 64, 320)      1310720     dropout_6[0][0]                  \n",
      "__________________________________________________________________________________________________\n",
      "batch_normalization_8 (BatchNor (None, 64, 320)      1280        conv1d_12[0][0]                  \n",
      "__________________________________________________________________________________________________\n",
      "activation_8 (Activation)       (None, 64, 320)      0           batch_normalization_8[0][0]      \n",
      "__________________________________________________________________________________________________\n",
      "dropout_7 (Dropout)             (None, 64, 320)      0           activation_8[0][0]               \n",
      "__________________________________________________________________________________________________\n",
      "max_pooling1d_4 (MaxPooling1D)  (None, 16, 256)      0           add_3[0][0]                      \n",
      "__________________________________________________________________________________________________\n",
      "conv1d_13 (Conv1D)              (None, 16, 320)      1638400     dropout_7[0][0]                  \n",
      "__________________________________________________________________________________________________\n",
      "conv1d_11 (Conv1D)              (None, 16, 320)      81920       max_pooling1d_4[0][0]            \n",
      "__________________________________________________________________________________________________\n",
      "add_4 (Add)                     (None, 16, 320)      0           conv1d_13[0][0]                  \n",
      "                                                                 conv1d_11[0][0]                  \n",
      "__________________________________________________________________________________________________\n",
      "batch_normalization_9 (BatchNor (None, 16, 320)      1280        add_4[0][0]                      \n",
      "__________________________________________________________________________________________________\n",
      "activation_9 (Activation)       (None, 16, 320)      0           batch_normalization_9[0][0]      \n",
      "__________________________________________________________________________________________________\n",
      "dropout_8 (Dropout)             (None, 16, 320)      0           activation_9[0][0]               \n",
      "__________________________________________________________________________________________________\n",
      "flatten_1 (Flatten)             (None, 5120)         0           dropout_8[0][0]                  \n",
      "__________________________________________________________________________________________________\n",
      "dense (Dense)                   (None, 4096)         20975616    flatten_1[0][0]                  \n",
      "__________________________________________________________________________________________________\n",
      "dense_1 (Dense)                 (None, 4096)         16781312    dense[0][0]                      \n",
      "__________________________________________________________________________________________________\n",
      "dense_2 (Dense)                 (None, 4)            16388       dense_1[0][0]                    \n",
      "==================================================================================================\n",
      "Total params: 44,168,228\n",
      "Trainable params: 37,773,316\n",
      "Non-trainable params: 6,394,912\n",
      "__________________________________________________________________________________________________\n"
     ]
    }
   ],
   "source": [
    "new_model.summary()"
   ]
  },
  {
   "cell_type": "code",
   "execution_count": 14,
   "metadata": {},
   "outputs": [
    {
     "name": "stderr",
     "output_type": "stream",
     "text": [
      "2022-02-27 18:17:51.432802: I tensorflow/compiler/mlir/mlir_graph_optimization_pass.cc:185] None of the MLIR Optimization Passes are enabled (registered 2)\n"
     ]
    },
    {
     "name": "stdout",
     "output_type": "stream",
     "text": [
      "Epoch 1/12\n",
      "28/28 [==============================] - 224s 8s/step - loss: 0.4650 - val_loss: 0.4778\n",
      "Epoch 2/12\n",
      "28/28 [==============================] - 178s 6s/step - loss: 0.4190 - val_loss: 0.4412\n",
      "Epoch 3/12\n",
      "28/28 [==============================] - 174s 6s/step - loss: 0.4072 - val_loss: 0.4331\n",
      "Epoch 4/12\n",
      "28/28 [==============================] - 155s 6s/step - loss: 0.4001 - val_loss: 0.4473\n",
      "Epoch 5/12\n",
      "28/28 [==============================] - 153s 6s/step - loss: 0.3933 - val_loss: 0.4282\n",
      "Epoch 6/12\n",
      "28/28 [==============================] - 154s 6s/step - loss: 0.3956 - val_loss: 0.4353\n",
      "Epoch 7/12\n",
      "28/28 [==============================] - 153s 5s/step - loss: 0.3938 - val_loss: 0.4215\n",
      "Epoch 8/12\n",
      "28/28 [==============================] - 154s 6s/step - loss: 0.3923 - val_loss: 0.4212\n",
      "Epoch 9/12\n",
      "28/28 [==============================] - 155s 6s/step - loss: 0.3941 - val_loss: 0.4224\n",
      "Epoch 10/12\n",
      "28/28 [==============================] - 153s 6s/step - loss: 0.3861 - val_loss: 0.4301\n",
      "Epoch 11/12\n",
      "28/28 [==============================] - 153s 5s/step - loss: 0.3851 - val_loss: 0.4266\n",
      "Epoch 12/12\n",
      "28/28 [==============================] - 153s 5s/step - loss: 0.3854 - val_loss: 0.4176\n"
     ]
    },
    {
     "data": {
      "text/plain": [
       "<keras.callbacks.History at 0x7fcd55fb3950>"
      ]
     },
     "execution_count": 14,
     "metadata": {},
     "output_type": "execute_result"
    }
   ],
   "source": [
    "new_model.compile(loss = 'binary_crossentropy', optimizer = Adam())\n",
    "new_model.fit(X_train_, y_train, batch_size = 128, epochs = 15, validation_split = 0.2)"
   ]
  },
  {
   "cell_type": "markdown",
   "metadata": {},
   "source": [
    "Pour l'entrainement de notre modèle, nous gardons une validation_split de $0.2$ qui reste un bon compromis quelque soit le modèle. Nous avons par contre choisit d'entrainer notre modèle sur $15$ epochs et sur un batch_size de $128$ car nous mettrions encore plus de temps à entrainer notre modèle."
   ]
  },
  {
   "cell_type": "code",
   "execution_count": 15,
   "metadata": {},
   "outputs": [],
   "source": [
    "df_predicts = new_model.predict(X_test_)\n",
    "df_predicts = np.round(df_predicts)\n",
    "df_predicts = pd.DataFrame(data = df_predicts, columns = [\"MI\",\"HYP\",\"CD\",\"STTC\"])\n",
    "df_predicts.to_csv('Pred_Transfer_Learning.csv')"
   ]
  },
  {
   "cell_type": "markdown",
   "metadata": {},
   "source": [
    "Ici nous exportons nos prédictions vers un fichier csv pour pouvoir ensuite les utilisées pour de la comparaison et plus simplement pour les examiner."
   ]
  },
  {
   "cell_type": "code",
   "execution_count": 16,
   "metadata": {},
   "outputs": [],
   "source": [
    "df_test = pd.DataFrame(data = y_test, columns = [\"MI\",\"HYP\",\"CD\",\"STTC\"])"
   ]
  },
  {
   "cell_type": "markdown",
   "metadata": {},
   "source": [
    "Dans les lignes de codes qui sont en dessous, nous allons afficher la matrice de confusion, la courbe ROC ainsi que les pourcentages de bonnes prédictions. "
   ]
  },
  {
   "cell_type": "code",
   "execution_count": 17,
   "metadata": {},
   "outputs": [],
   "source": [
    "y_true1 = np.asarray(df_test[\"MI\"])\n",
    "data_pred1 = np.asarray(df_predicts[\"MI\"])\n",
    "y_score1 = np.asarray([1-data_pred1,data_pred1]).T\n",
    "\n",
    "y_true2 = np.asarray(df_test[\"HYP\"])\n",
    "data_pred2 = np.asarray(df_predicts[\"HYP\"])\n",
    "y_score2 = np.asarray([1-data_pred2,data_pred2]).T\n",
    "\n",
    "y_true3 = np.asarray(df_test[\"CD\"])\n",
    "data_pred3 = np.asarray(df_predicts[\"CD\"])\n",
    "y_score3 = np.asarray([1-data_pred3,data_pred3]).T\n",
    "\n",
    "y_true4 = np.asarray(df_test[\"STTC\"])\n",
    "data_pred4 = np.asarray(df_predicts[\"STTC\"])\n",
    "y_score4 = np.asarray([1-data_pred4,data_pred4]).T"
   ]
  },
  {
   "cell_type": "markdown",
   "metadata": {},
   "source": [
    "#### Prédiction de la maladie MI :"
   ]
  },
  {
   "cell_type": "code",
   "execution_count": 28,
   "metadata": {},
   "outputs": [
    {
     "name": "stdout",
     "output_type": "stream",
     "text": [
      "Matrice de confusion [[474 113]\n",
      " [ 13  15]]\n",
      "Pourcentage d'erreur 20.48780487804878\n",
      "Score pour MI : 79.51219512195122\n",
      "La precision du modèle est :  0.807495741056218\n",
      "Le recall du modèle est : 0.973305954825462\n"
     ]
    }
   ],
   "source": [
    "cm = confusion_matrix(df_predicts[\"MI\"], df_test[\"MI\"])\n",
    "Err = (cm[0,1] + cm[1,0]) / y_test.shape[0]*100\n",
    "print(\"Matrice de confusion\", cm)\n",
    "print(\"Pourcentage d'erreur\", Err)\n",
    "print(\"Score pour MI :\", accuracy_score(df_predicts[\"MI\"], df_test[\"MI\"])*100)\n",
    "\n",
    "print(\"La precision du modèle est : \", cm[0,0]/(cm[0,0]+cm[0,1]))\n",
    "print(\"Le recall du modèle est :\", cm[0,0]/(cm[0,0]+cm[1,0]))"
   ]
  },
  {
   "cell_type": "markdown",
   "metadata": {},
   "source": [
    "On rappelle que la précision est définit comme suivant : la précision (ou valeur prédictive positive) est la proportion des items pertinents parmi l'ensemble des items proposés.\n",
    "On rappelle également que le rappel est définit comme suivant : le rappel (ou sensibilité) est la proportion des items pertinents proposés parmi l'ensemble des items pertinents.\n",
    "\n",
    "Nous cherchons à avoir les trois valeurs que sont la precision, le recall et l'accuracy tout trois à $100$. Dans la prédictino de cette maladie, nous avons des scores assez élevés. Toutefois, l'accuracy est assez faible pour avoir une bonne prédiction, il nous faudrait un minimum de $92$-$93\\%$. Seulement le recall est assez bon ici, il faudrait également avoir un meilleur résultat pour la precision."
   ]
  },
  {
   "cell_type": "code",
   "execution_count": 19,
   "metadata": {},
   "outputs": [
    {
     "name": "stdout",
     "output_type": "stream",
     "text": [
      "L'aire sous la courbe est égale à  0.5452467274127311\n"
     ]
    },
    {
     "name": "stderr",
     "output_type": "stream",
     "text": [
      "/Users/MatthiasCercelet/opt/anaconda3/envs/tfenv/lib/python3.7/site-packages/sklearn/utils/deprecation.py:87: FutureWarning: Function plot_roc_curve is deprecated; This will be removed in v0.5.0. Please use scikitplot.metrics.plot_roc instead.\n",
      "  warnings.warn(msg, category=FutureWarning)\n"
     ]
    },
    {
     "data": {
      "image/png": "[encoded data removed]",
      "text/plain": [
       "<Figure size 432x288 with 1 Axes>"
      ]
     },
     "metadata": {
      "needs_background": "light"
     },
     "output_type": "display_data"
    }
   ],
   "source": [
    "skplt.metrics.plot_roc_curve(y_true1,y_score1)\n",
    "#print(np.shape(y_true1),np.shape(np.asarray([data_pred1]).T))\n",
    "print(\"L'aire sous la courbe est égale à \",roc_auc_score(y_true1,np.asarray([data_pred1]).T))"
   ]
  },
  {
   "cell_type": "markdown",
   "metadata": {},
   "source": [
    "La courbe ROC conforte les résultats que nous avons annoncé précédemment."
   ]
  },
  {
   "cell_type": "markdown",
   "metadata": {},
   "source": [
    "#### Prediction de la maladie HYP :"
   ]
  },
  {
   "cell_type": "code",
   "execution_count": 29,
   "metadata": {},
   "outputs": [
    {
     "name": "stdout",
     "output_type": "stream",
     "text": [
      "Matrice de confusion [[544  71]\n",
      " [  0   0]]\n",
      "Pourcentage d'erreur 11.544715447154472\n",
      "Score pour HYP : 88.45528455284553\n",
      "La precision du modèle est :  0.8845528455284553\n",
      "Le recall du modèle est : 1.0\n"
     ]
    }
   ],
   "source": [
    "cm = confusion_matrix(df_predicts[\"HYP\"], df_test[\"HYP\"])\n",
    "Err = (cm[0,1] + cm[1,0]) / y_test.shape[0]*100\n",
    "print(\"Matrice de confusion\", cm)\n",
    "print(\"Pourcentage d'erreur\", Err)\n",
    "print(\"Score pour HYP :\", accuracy_score(df_predicts[\"HYP\"], df_test[\"HYP\"])*100)\n",
    "\n",
    "print(\"La precision du modèle est : \", cm[0,0]/(cm[0,0]+cm[0,1]))\n",
    "print(\"Le rappel du modèle est :\", cm[0,0]/(cm[0,0]+cm[1,0]))"
   ]
  },
  {
   "cell_type": "markdown",
   "metadata": {},
   "source": [
    "La prédiction du modèle dans le cas de cette maladie-ci est nettement meilleure que pour la maladie précédente.nIci le score est de $89\\%$ tout comme la précision du modèle. On a également un recall de $1$, ce qui est parfait. Cela est notamment du au fait que le nombre de faux négatifs est de $0$."
   ]
  },
  {
   "cell_type": "code",
   "execution_count": 21,
   "metadata": {},
   "outputs": [
    {
     "name": "stderr",
     "output_type": "stream",
     "text": [
      "/Users/MatthiasCercelet/opt/anaconda3/envs/tfenv/lib/python3.7/site-packages/sklearn/utils/deprecation.py:87: FutureWarning: Function plot_roc_curve is deprecated; This will be removed in v0.5.0. Please use scikitplot.metrics.plot_roc instead.\n",
      "  warnings.warn(msg, category=FutureWarning)\n"
     ]
    },
    {
     "name": "stdout",
     "output_type": "stream",
     "text": [
      "L'aire sous la courbe est égale à  0.5\n"
     ]
    },
    {
     "data": {
      "image/png": "[encoded data removed]",
      "text/plain": [
       "<Figure size 432x288 with 1 Axes>"
      ]
     },
     "metadata": {
      "needs_background": "light"
     },
     "output_type": "display_data"
    }
   ],
   "source": [
    "skplt.metrics.plot_roc_curve(y_true2,y_score2)\n",
    "#print(np.shape(y_true1),np.shape(np.asarray([data_pred1]).T))\n",
    "print(\"L'aire sous la courbe est égale à \",roc_auc_score(y_true2,np.asarray([data_pred2]).T))"
   ]
  },
  {
   "cell_type": "markdown",
   "metadata": {},
   "source": [
    "#### Prediction de la maladie CD :"
   ]
  },
  {
   "cell_type": "code",
   "execution_count": 30,
   "metadata": {},
   "outputs": [
    {
     "name": "stdout",
     "output_type": "stream",
     "text": [
      "Matrice de confusion [[485  70]\n",
      " [ 14  46]]\n",
      "Pourcentage d'erreur 13.658536585365855\n",
      "Score pour CD : 86.34146341463415\n",
      "La precision du modèle est :  0.8738738738738738\n",
      "Le recall du modèle est : 0.9719438877755511\n"
     ]
    }
   ],
   "source": [
    "cm = confusion_matrix(df_predicts[\"CD\"], df_test[\"CD\"])\n",
    "Err = (cm[0,1] + cm[1,0]) / y_test.shape[0]*100\n",
    "print(\"Matrice de confusion\", cm)\n",
    "print(\"Pourcentage d'erreur\", Err)\n",
    "print(\"Score pour CD :\", accuracy_score(df_predicts[\"CD\"], df_test[\"CD\"])*100)\n",
    "\n",
    "print(\"La precision du modèle est : \", cm[0,0]/(cm[0,0]+cm[0,1]))\n",
    "print(\"Le recall du modèle est :\", cm[0,0]/(cm[0,0]+cm[1,0]))"
   ]
  },
  {
   "cell_type": "markdown",
   "metadata": {},
   "source": [
    "La prédiction du modèle dans le cas de cette maladie-ci est également bonne. Celle-ci est moins bonne que la précédente mais rest néanmoins intéressante par rapport à la première."
   ]
  },
  {
   "cell_type": "code",
   "execution_count": 23,
   "metadata": {},
   "outputs": [
    {
     "name": "stdout",
     "output_type": "stream",
     "text": [
      "L'aire sous la courbe est égale à  0.6842478059567411\n"
     ]
    },
    {
     "name": "stderr",
     "output_type": "stream",
     "text": [
      "/Users/MatthiasCercelet/opt/anaconda3/envs/tfenv/lib/python3.7/site-packages/sklearn/utils/deprecation.py:87: FutureWarning: Function plot_roc_curve is deprecated; This will be removed in v0.5.0. Please use scikitplot.metrics.plot_roc instead.\n",
      "  warnings.warn(msg, category=FutureWarning)\n"
     ]
    },
    {
     "data": {
      "image/png": "[encoded data removed]",
      "text/plain": [
       "<Figure size 432x288 with 1 Axes>"
      ]
     },
     "metadata": {
      "needs_background": "light"
     },
     "output_type": "display_data"
    }
   ],
   "source": [
    "skplt.metrics.plot_roc_curve(y_true3,y_score3)\n",
    "#print(np.shape(y_true1),np.shape(np.asarray([data_pred1]).T))\n",
    "print(\"L'aire sous la courbe est égale à \",roc_auc_score(y_true3,np.asarray([data_pred3]).T))"
   ]
  },
  {
   "cell_type": "markdown",
   "metadata": {},
   "source": [
    "#### Prediction de la maladie STTC :"
   ]
  },
  {
   "cell_type": "code",
   "execution_count": 31,
   "metadata": {},
   "outputs": [
    {
     "name": "stdout",
     "output_type": "stream",
     "text": [
      "Matrice de confusion [[462 122]\n",
      " [ 13  18]]\n",
      "Pourcentage d'erreur 21.951219512195124\n",
      "score du dnn pour STTC : 78.04878048780488\n",
      "La precision du modèle est :  0.791095890410959\n",
      "Le recall du modèle est : 0.9726315789473684\n"
     ]
    }
   ],
   "source": [
    "cm = confusion_matrix(df_predicts[\"STTC\"], df_test[\"STTC\"])\n",
    "Err = (cm[0,1] + cm[1,0]) / y_test.shape[0]*100\n",
    "print(\"Matrice de confusion\", cm)\n",
    "print(\"Pourcentage d'erreur\", Err)\n",
    "print(\"score du dnn pour STTC :\", accuracy_score(df_predicts[\"STTC\"], df_test[\"STTC\"])*100)\n",
    "\n",
    "print(\"La precision du modèle est : \", cm[0,0]/(cm[0,0]+cm[0,1]))\n",
    "print(\"Le recall du modèle est :\", cm[0,0]/(cm[0,0]+cm[1,0]))"
   ]
  },
  {
   "cell_type": "markdown",
   "metadata": {},
   "source": [
    "Dans ce cas-ci, les prédictions restent correctes mais semble être moins intéressantes que pour les deux maladies précédentes."
   ]
  },
  {
   "cell_type": "code",
   "execution_count": 25,
   "metadata": {},
   "outputs": [
    {
     "name": "stdout",
     "output_type": "stream",
     "text": [
      "L'aire sous la courbe est égale à  0.5506015037593985\n"
     ]
    },
    {
     "name": "stderr",
     "output_type": "stream",
     "text": [
      "/Users/MatthiasCercelet/opt/anaconda3/envs/tfenv/lib/python3.7/site-packages/sklearn/utils/deprecation.py:87: FutureWarning: Function plot_roc_curve is deprecated; This will be removed in v0.5.0. Please use scikitplot.metrics.plot_roc instead.\n",
      "  warnings.warn(msg, category=FutureWarning)\n"
     ]
    },
    {
     "data": {
      "image/png": "[encoded data removed]",
      "text/plain": [
       "<Figure size 432x288 with 1 Axes>"
      ]
     },
     "metadata": {
      "needs_background": "light"
     },
     "output_type": "display_data"
    }
   ],
   "source": [
    "skplt.metrics.plot_roc_curve(y_true4,y_score4)\n",
    "#print(np.shape(y_true1),np.shape(np.asarray([data_pred1]).T))\n",
    "print(\"L'aire sous la courbe est égale à \",roc_auc_score(y_true4,np.asarray([data_pred4]).T))"
   ]
  },
  {
   "cell_type": "markdown",
   "metadata": {},
   "source": [
    "Ci nous devions faire un résumé de tout ce qui a été fait et vu dans cette partie. Nous pourrions partir du constat que le *Transfer Learning* peut être une pratique très intéréssante, car cela nous évite de devoir créer un modèle en partant de zéro, ce qui peut parfois être très compliqué suivant le dataset comme c'est le cas ici. Cela nous fait gagner beaucoup de temps dans la recherche d'un modèle dit \"parfait\" pour notre dataset. Dans l'ensemble il nous suffit juste de remplacer les dernières couches, en gelant toutes les autres. On peut plus ou moins remonter de manière inverse dans le modèle pour obtenir un modèle qui concorde mieux à notre dataset. Cependant, plus on dégèle de couches et plus nous allons mettre du temps à entrainer le modèle. Il faut donc trouver le bon compromis entre les deux.\n",
    "\n",
    "Pour ce qui est de la bonne prédiction du modèle pour le nouveau dataset, nous avons vu que suivant les maladies, le modèle est plus ou moins bon. Dans l'ensemble c'est un bon modèle. Malheureusement, si l'on compare les résultats du modèle sur l'ancien dataset, nous avions une prédiction parfaite, puisque nous étions sur du $100\\%$ pour l'accuracy, la precision et le recall."
   ]
  },
  {
   "cell_type": "markdown",
   "metadata": {},
   "source": [
    "### Tentative de fine-tuning\n",
    "\n",
    "Dans la partie ci-dessous nous avons entrainer tout le modèle en entier. Ce qui nous a prit énormément de temps, nous l'avons donc entrainer qu'une fois."
   ]
  },
  {
   "cell_type": "code",
   "execution_count": 25,
   "metadata": {},
   "outputs": [],
   "source": [
    "model.trainable = True"
   ]
  },
  {
   "cell_type": "code",
   "execution_count": 26,
   "metadata": {},
   "outputs": [],
   "source": [
    "new_model.compile(loss = 'binary_crossentropy',  optimizer = Adam(1e-5))"
   ]
  },
  {
   "cell_type": "code",
   "execution_count": 27,
   "metadata": {},
   "outputs": [],
   "source": [
    "#new_model.summary()"
   ]
  },
  {
   "cell_type": "code",
   "execution_count": 28,
   "metadata": {},
   "outputs": [
    {
     "name": "stdout",
     "output_type": "stream",
     "text": [
      "Epoch 1/12\n",
      "121/121 [==============================] - 986s 8s/step - loss: 0.4063 - val_loss: 0.4223\n",
      "Epoch 2/12\n",
      "121/121 [==============================] - 937s 8s/step - loss: 0.4037 - val_loss: 0.4186\n",
      "Epoch 3/12\n",
      "121/121 [==============================] - 920s 8s/step - loss: 0.4026 - val_loss: 0.4142\n",
      "Epoch 4/12\n",
      "121/121 [==============================] - 931s 8s/step - loss: 0.3990 - val_loss: 0.4122\n",
      "Epoch 5/12\n",
      "121/121 [==============================] - 919s 8s/step - loss: 0.3991 - val_loss: 0.4114\n",
      "Epoch 6/12\n",
      "121/121 [==============================] - 935s 8s/step - loss: 0.3957 - val_loss: 0.4101\n",
      "Epoch 7/12\n",
      "121/121 [==============================] - 981s 8s/step - loss: 0.3960 - val_loss: 0.4092\n",
      "Epoch 8/12\n",
      "121/121 [==============================] - 944s 8s/step - loss: 0.3946 - val_loss: 0.4080\n",
      "Epoch 9/12\n",
      "121/121 [==============================] - 914s 8s/step - loss: 0.3926 - val_loss: 0.4067\n",
      "Epoch 10/12\n",
      "121/121 [==============================] - 887s 7s/step - loss: 0.3915 - val_loss: 0.4057\n",
      "Epoch 11/12\n",
      "121/121 [==============================] - 960s 8s/step - loss: 0.3911 - val_loss: 0.4046\n",
      "Epoch 12/12\n",
      "121/121 [==============================] - 952s 8s/step - loss: 0.3891 - val_loss: 0.4036\n"
     ]
    },
    {
     "data": {
      "text/plain": [
       "<tensorflow.python.keras.callbacks.History at 0x24b910e1f70>"
      ]
     },
     "execution_count": 28,
     "metadata": {},
     "output_type": "execute_result"
    }
   ],
   "source": [
    "new_model.fit(X_train_, y_train, batch_size = 128, epochs = 12, validation_split = 0.2)"
   ]
  },
  {
   "cell_type": "code",
   "execution_count": 29,
   "metadata": {},
   "outputs": [],
   "source": [
    "df_predicts2 = new_model.predict(X_test_)\n",
    "df_predicts2 = np.round(df_predicts2)\n",
    "df_predicts2 = pd.DataFrame(data = df_predicts2, columns = [\"MI\",\"HYP\",\"CD\",\"STTC\"])\n",
    "df_predicts2.to_csv('Pred_Fine-Tuning.csv')"
   ]
  },
  {
   "cell_type": "code",
   "execution_count": 30,
   "metadata": {},
   "outputs": [
    {
     "name": "stdout",
     "output_type": "stream",
     "text": [
      "Matrice de confusion [[1535  394]\n",
      " [  75  159]]\n",
      "Pourcentage d'erreur 21.68284789644013\n",
      "Score pour MI : 0.7831715210355987\n"
     ]
    }
   ],
   "source": [
    "cm = confusion_matrix(df_predicts2[\"MI\"], df_test[\"MI\"])\n",
    "Err = (cm[0,1] + cm[1,0]) / y_test.shape[0]*100\n",
    "print(\"Matrice de confusion\", cm)\n",
    "print(\"Pourcentage d'erreur\", Err)\n",
    "print(\"Score pour MI :\", accuracy_score(df_predicts2[\"MI\"], df_test[\"MI\"]))"
   ]
  },
  {
   "cell_type": "code",
   "execution_count": 31,
   "metadata": {},
   "outputs": [
    {
     "name": "stdout",
     "output_type": "stream",
     "text": [
      "Matrice de confusion [[1900  263]\n",
      " [   0    0]]\n",
      "Pourcentage d'erreur 12.159038372630606\n",
      "Score pour HYP : 0.878409616273694\n"
     ]
    }
   ],
   "source": [
    "cm = confusion_matrix(df_predicts2[\"HYP\"], df_test[\"HYP\"])\n",
    "Err = (cm[0,1] + cm[1,0]) / y_test.shape[0]*100\n",
    "print(\"Matrice de confusion\", cm)\n",
    "print(\"Pourcentage d'erreur\", Err)\n",
    "print(\"Score pour HYP :\", accuracy_score(df_predicts2[\"HYP\"], df_test[\"HYP\"]))"
   ]
  },
  {
   "cell_type": "code",
   "execution_count": 32,
   "metadata": {},
   "outputs": [
    {
     "name": "stdout",
     "output_type": "stream",
     "text": [
      "Matrice de confusion [[1623  239]\n",
      " [  42  259]]\n",
      "Pourcentage d'erreur 12.991215903837263\n",
      "Score pour CD : 0.8700878409616274\n"
     ]
    }
   ],
   "source": [
    "cm = confusion_matrix(df_predicts2[\"CD\"], df_test[\"CD\"])\n",
    "Err = (cm[0,1] + cm[1,0]) / y_test.shape[0]*100\n",
    "print(\"Matrice de confusion\", cm)\n",
    "print(\"Pourcentage d'erreur\", Err)\n",
    "print(\"Score pour CD :\", accuracy_score(df_predicts2[\"CD\"], df_test[\"CD\"]))"
   ]
  },
  {
   "cell_type": "code",
   "execution_count": 33,
   "metadata": {},
   "outputs": [
    {
     "name": "stdout",
     "output_type": "stream",
     "text": [
      "Matrice de confusion [[1585  420]\n",
      " [  55  103]]\n",
      "Pourcentage d'erreur 21.96024040684235\n",
      "score du dnn pour STTC : 0.7803975959315765\n"
     ]
    }
   ],
   "source": [
    "cm = confusion_matrix(df_predicts2[\"STTC\"], df_test[\"STTC\"])\n",
    "Err = (cm[0,1] + cm[1,0]) / y_test.shape[0]*100\n",
    "print(\"Matrice de confusion\", cm)\n",
    "print(\"Pourcentage d'erreur\", Err)\n",
    "print(\"score du dnn pour STTC :\", accuracy_score(df_predicts2[\"STTC\"], df_test[\"STTC\"]))"
   ]
  },
  {
   "cell_type": "markdown",
   "metadata": {},
   "source": [
    "Le pourcentage de prédiction pour les différentes maladies restent sensiblement les mêmes que pour la méthode de *Transfer Learning*. Peut-être qu'en changeant les paramètres et en mettant plus d'epochs, ainsi qu'un batch_size plus petit nous obtiendrons de meilleurs résultats mais cela ferait augmenter proportionnellement la compléxité du modèle et donc nous demanderait plus de temps pour l'entrainer."
   ]
  },
  {
   "cell_type": "code",
   "execution_count": null,
   "metadata": {},
   "outputs": [],
   "source": []
  }
 ],
 "metadata": {
  "kernelspec": {
   "display_name": "tfenv",
   "language": "python",
   "name": "tfenv"
  },
  "language_info": {
   "codemirror_mode": {
    "name": "ipython",
    "version": 3
   },
   "file_extension": ".py",
   "mimetype": "text/x-python",
   "name": "python",
   "nbconvert_exporter": "python",
   "pygments_lexer": "ipython3",
   "version": "3.7.11"
  }
 },
 "nbformat": 4,
 "nbformat_minor": 5
}
